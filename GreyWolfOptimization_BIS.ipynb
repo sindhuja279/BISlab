{
  "nbformat": 4,
  "nbformat_minor": 0,
  "metadata": {
    "colab": {
      "provenance": [],
      "authorship_tag": "ABX9TyO2ZZDMTZ7rfcWPtXYxpEji",
      "include_colab_link": true
    },
    "kernelspec": {
      "name": "python3",
      "display_name": "Python 3"
    },
    "language_info": {
      "name": "python"
    }
  },
  "cells": [
    {
      "cell_type": "markdown",
      "metadata": {
        "id": "view-in-github",
        "colab_type": "text"
      },
      "source": [
        "<a href=\"https://colab.research.google.com/github/sindhuja279/BISlab/blob/main/GreyWolfOptimization_BIS.ipynb\" target=\"_parent\"><img src=\"https://colab.research.google.com/assets/colab-badge.svg\" alt=\"Open In Colab\"/></a>"
      ]
    },
    {
      "cell_type": "code",
      "execution_count": 2,
      "metadata": {
        "colab": {
          "base_uri": "https://localhost:8080/"
        },
        "id": "MifxWEcRKMvS",
        "outputId": "1ac69e44-bee4-4ebd-a1fe-b1fced00b310"
      },
      "outputs": [
        {
          "output_type": "stream",
          "name": "stdout",
          "text": [
            "Best position: [ 6.39416682e-06  6.40050630e-06 -6.59530745e-06  7.98219713e-06\n",
            " -7.16874410e-06]\n",
            "Best score: 2.404562935464129e-10\n"
          ]
        }
      ],
      "source": [
        "import numpy as np\n",
        "\n",
        "# Define the objective function to be minimized\n",
        "def objective_function(x):\n",
        "    return np.sum(x**2)  # Example: Sphere function (minimization problem)\n",
        "\n",
        "# Grey Wolf Optimizer (GWO) implementation\n",
        "def grey_wolf_optimizer(obj_func, dim, lb, ub, wolves_count, iterations):\n",
        "    # Initialize alpha, beta, and delta wolves' positions\n",
        "    alpha_pos = np.zeros(dim)\n",
        "    beta_pos = np.zeros(dim)\n",
        "    delta_pos = np.zeros(dim)\n",
        "\n",
        "    # Initialize alpha, beta, and delta wolves' fitness values\n",
        "    alpha_score = float(\"inf\")  # Best fitness\n",
        "    beta_score = float(\"inf\")   # Second-best fitness\n",
        "    delta_score = float(\"inf\")  # Third-best fitness\n",
        "\n",
        "    # Initialize the positions of all wolves\n",
        "    wolves_positions = np.random.uniform(lb, ub, (wolves_count, dim))\n",
        "\n",
        "    # Main loop for optimization\n",
        "    for iteration in range(iterations):\n",
        "        for i in range(wolves_count):\n",
        "            # Calculate the fitness of the current wolf\n",
        "            fitness = obj_func(wolves_positions[i])\n",
        "\n",
        "            # Update alpha, beta, and delta wolves\n",
        "            if fitness < alpha_score:\n",
        "                alpha_score, alpha_pos = fitness, wolves_positions[i].copy()\n",
        "            elif fitness < beta_score:\n",
        "                beta_score, beta_pos = fitness, wolves_positions[i].copy()\n",
        "            elif fitness < delta_score:\n",
        "                delta_score, delta_pos = fitness, wolves_positions[i].copy()\n",
        "\n",
        "        # Update the positions of wolves\n",
        "        for i in range(wolves_count):\n",
        "            for j in range(dim):\n",
        "                # Coefficients\n",
        "                a = 2 - 2 * (iteration / iterations)  # Linearly decreases from 2 to 0\n",
        "                r1, r2 = np.random.rand(), np.random.rand()\n",
        "\n",
        "                A1 = 2 * a * r1 - a\n",
        "                C1 = 2 * r2\n",
        "\n",
        "                D_alpha = abs(C1 * alpha_pos[j] - wolves_positions[i][j])\n",
        "                X1 = alpha_pos[j] - A1 * D_alpha\n",
        "\n",
        "                r1, r2 = np.random.rand(), np.random.rand()\n",
        "                A2 = 2 * a * r1 - a\n",
        "                C2 = 2 * r2\n",
        "\n",
        "                D_beta = abs(C2 * beta_pos[j] - wolves_positions[i][j])\n",
        "                X2 = beta_pos[j] - A2 * D_beta\n",
        "\n",
        "                r1, r2 = np.random.rand(), np.random.rand()\n",
        "                A3 = 2 * a * r1 - a\n",
        "                C3 = 2 * r2\n",
        "\n",
        "                D_delta = abs(C3 * delta_pos[j] - wolves_positions[i][j])\n",
        "                X3 = delta_pos[j] - A3 * D_delta\n",
        "\n",
        "                # Update position\n",
        "                wolves_positions[i][j] = (X1 + X2 + X3) / 3\n",
        "\n",
        "            # Enforce bounds\n",
        "            wolves_positions[i] = np.clip(wolves_positions[i], lb, ub)\n",
        "\n",
        "\n",
        "    # Return the best solution\n",
        "    return alpha_pos, alpha_score\n",
        "\n",
        "# Parameters\n",
        "dimension = 5  # Number of variables\n",
        "lower_bound = -10  # Lower bound of variables\n",
        "upper_bound = 10   # Upper bound of variables\n",
        "wolves = 30        # Number of wolves in the pack\n",
        "max_iterations = 50  # Maximum number of iterations\n",
        "\n",
        "# Run the GWO algorithm\n",
        "best_position, best_score = grey_wolf_optimizer(\n",
        "    objective_function, dimension, lower_bound, upper_bound, wolves, max_iterations\n",
        ")\n",
        "\n",
        "print(\"Best position:\", best_position)\n",
        "print(\"Best score:\", best_score)\n"
      ]
    }
  ]
}