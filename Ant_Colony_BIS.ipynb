{
  "nbformat": 4,
  "nbformat_minor": 0,
  "metadata": {
    "colab": {
      "provenance": [],
      "authorship_tag": "ABX9TyNAzXhmY3fJoMD3Q5i/ZocQ",
      "include_colab_link": true
    },
    "kernelspec": {
      "name": "python3",
      "display_name": "Python 3"
    },
    "language_info": {
      "name": "python"
    }
  },
  "cells": [
    {
      "cell_type": "markdown",
      "metadata": {
        "id": "view-in-github",
        "colab_type": "text"
      },
      "source": [
        "<a href=\"https://colab.research.google.com/github/sindhuja279/BISlab/blob/main/Ant_Colony_BIS.ipynb\" target=\"_parent\"><img src=\"https://colab.research.google.com/assets/colab-badge.svg\" alt=\"Open In Colab\"/></a>"
      ]
    },
    {
      "cell_type": "code",
      "execution_count": 19,
      "metadata": {
        "colab": {
          "base_uri": "https://localhost:8080/"
        },
        "id": "Oj0hCUGxP450",
        "outputId": "53fcf828-3a17-4b7c-fa14-76a5d357b058"
      },
      "outputs": [
        {
          "output_type": "stream",
          "name": "stdout",
          "text": [
            "Best Route: [0, 1, 2, 4, 3, 0]\n",
            "Best Distance: 12.10654957016754\n"
          ]
        }
      ],
      "source": [
        "import numpy as np\n",
        "import random\n",
        "\n",
        "class AntColony:\n",
        "    def __init__(self, cities, num_ants, alpha, beta, rho, iterations):\n",
        "        self.cities = cities\n",
        "        self.num_cities = len(cities)\n",
        "        self.num_ants = num_ants\n",
        "        self.alpha = alpha\n",
        "        self.beta = beta\n",
        "        self.rho = rho\n",
        "        self.iterations = iterations\n",
        "        self.pheromone = np.ones((self.num_cities, self.num_cities))  # Initial pheromone levels\n",
        "        self.distance_matrix = self.calculate_distance_matrix()\n",
        "        self.best_route = None\n",
        "        self.best_distance = float('inf')\n",
        "\n",
        "    def calculate_distance_matrix(self):\n",
        "        distance_matrix = np.zeros((self.num_cities, self.num_cities))\n",
        "        for i in range(self.num_cities):\n",
        "            for j in range(self.num_cities):\n",
        "                distance_matrix[i][j] = np.linalg.norm(np.array(self.cities[i]) - np.array(self.cities[j]))\n",
        "        return distance_matrix\n",
        "\n",
        "    def choose_next_city(self, current_city, visited):\n",
        "        probabilities = []\n",
        "        for city in range(self.num_cities):\n",
        "            if city not in visited:\n",
        "                pheromone = self.pheromone[current_city][city] ** self.alpha\n",
        "                heuristic = (1 / self.distance_matrix[current_city][city]) ** self.beta\n",
        "                probabilities.append(pheromone * heuristic)\n",
        "            else:\n",
        "                probabilities.append(0)\n",
        "        probabilities = np.array(probabilities)\n",
        "        probabilities /= probabilities.sum()  # Normalize\n",
        "        return np.random.choice(range(self.num_cities), p=probabilities)\n",
        "\n",
        "    def construct_solution(self):\n",
        "        for _ in range(self.num_ants):\n",
        "            visited = [0]  # Start from the first city\n",
        "            for _ in range(1, self.num_cities):\n",
        "                next_city = self.choose_next_city(visited[-1], visited)\n",
        "                visited.append(next_city)\n",
        "            visited.append(0)  # Return to the starting city\n",
        "            distance = self.calculate_route_distance(visited)\n",
        "            if distance < self.best_distance:\n",
        "                self.best_distance = distance\n",
        "                self.best_route = visited\n",
        "\n",
        "    def calculate_route_distance(self, route):\n",
        "        return sum(self.distance_matrix[route[i]][route[i + 1]] for i in range(len(route) - 1))\n",
        "\n",
        "    def update_pheromones(self):\n",
        "        # Evaporate pheromones\n",
        "        self.pheromone *= (1 - self.rho)\n",
        "        # Add pheromones based on the best route found\n",
        "        for city in range(len(self.best_route) - 1):\n",
        "            self.pheromone[self.best_route[city]][self.best_route[city + 1]] += 1 / self.best_distance\n",
        "\n",
        "    def optimize(self):\n",
        "        for _ in range(self.iterations):\n",
        "            self.construct_solution()\n",
        "            self.update_pheromones()\n",
        "        return self.best_route, self.best_distance\n",
        "\n",
        "# Example usage:\n",
        "if __name__ == \"__main__\":\n",
        "    # Define cities as (x, y) coordinates\n",
        "    cities = [(0, 0), (1, 2), (2, 4), (3, 1), (4, 3)]\n",
        "\n",
        "    # ACO parameters\n",
        "    num_ants = 10\n",
        "    alpha = 1.0  # importance of pheromone\n",
        "    beta = 2.0   # importance of heuristic\n",
        "    rho = 0.5 # pheromone evaporation rate\n",
        "    iterations = 10\n",
        "\n",
        "    aco = AntColony(cities, num_ants, alpha, beta, rho, iterations)\n",
        "    best_route, best_distance = aco.optimize()\n",
        "\n",
        "    print(\"Best Route:\", best_route)\n",
        "    print(\"Best Distance:\", best_distance)"
      ]
    }
  ]
}