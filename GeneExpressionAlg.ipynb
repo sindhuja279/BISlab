{
  "nbformat": 4,
  "nbformat_minor": 0,
  "metadata": {
    "colab": {
      "provenance": [],
      "authorship_tag": "ABX9TyOwmcXD4FmMgro4AELXyAaD",
      "include_colab_link": true
    },
    "kernelspec": {
      "name": "python3",
      "display_name": "Python 3"
    },
    "language_info": {
      "name": "python"
    }
  },
  "cells": [
    {
      "cell_type": "markdown",
      "metadata": {
        "id": "view-in-github",
        "colab_type": "text"
      },
      "source": [
        "<a href=\"https://colab.research.google.com/github/sindhuja279/BISlab/blob/main/GeneExpressionAlg.ipynb\" target=\"_parent\"><img src=\"https://colab.research.google.com/assets/colab-badge.svg\" alt=\"Open In Colab\"/></a>"
      ]
    },
    {
      "cell_type": "code",
      "execution_count": 1,
      "metadata": {
        "colab": {
          "base_uri": "https://localhost:8080/"
        },
        "id": "8Ws52aXAMNod",
        "outputId": "2e284969-42ef-4c3d-c5db-8576bf8e05e7"
      },
      "outputs": [
        {
          "output_type": "stream",
          "name": "stdout",
          "text": [
            "Optimization complete.\n",
            "Best Solution: [ 0.00068611 -0.00240511]\n",
            "Best Fitness: 0.001241\n"
          ]
        }
      ],
      "source": [
        "import numpy as np\n",
        "import random\n",
        "\n",
        "def rastrigin_function(x):\n",
        "    \"\"\"\n",
        "    Rastrigin function for optimization. It has a global minimum at x = 0.\n",
        "    f(x) = 10n + sum(x_i^2 - 10 * cos(2 * pi * x_i))\n",
        "    \"\"\"\n",
        "    A = 10\n",
        "    return A * len(x) + sum((xi ** 2 - A * np.cos(2 * np.pi * xi)) for xi in x)\n",
        "\n",
        "class GeneExpressionAlgorithm:\n",
        "    def __init__(self, population_size=100, gene_length=10, mutation_rate=0.01, crossover_rate=0.7, generations=100, bounds=(-5.12, 5.12)):\n",
        "        \"\"\"\n",
        "        Initialize the parameters for the Gene Expression Algorithm.\n",
        "\n",
        "        :param population_size: Number of genetic sequences in the population\n",
        "        :param gene_length: Length of each genetic sequence\n",
        "        :param mutation_rate: Probability of mutation\n",
        "        :param crossover_rate: Probability of crossover\n",
        "        :param generations: Number of generations to evolve\n",
        "        :param bounds: Lower and upper bounds for the solution space\n",
        "        \"\"\"\n",
        "        self.population_size = population_size\n",
        "        self.gene_length = gene_length\n",
        "        self.mutation_rate = mutation_rate\n",
        "        self.crossover_rate = crossover_rate\n",
        "        self.generations = generations\n",
        "        self.bounds = bounds\n",
        "\n",
        "        # Initialize population with random solutions\n",
        "        self.population = [self.random_gene_sequence() for _ in range(population_size)]\n",
        "        self.best_solution = None\n",
        "        self.best_fitness = float('inf')\n",
        "\n",
        "    def random_gene_sequence(self):\n",
        "        \"\"\"Generate a random gene sequence within bounds.\"\"\"\n",
        "        return np.random.uniform(self.bounds[0], self.bounds[1], size=self.gene_length)\n",
        "\n",
        "    def evaluate_fitness(self, gene_sequence):\n",
        "        \"\"\"Evaluate the fitness of a gene sequence using the Rastrigin function.\"\"\"\n",
        "        return rastrigin_function(gene_sequence)\n",
        "\n",
        "    def selection(self):\n",
        "        \"\"\"Select individuals for reproduction using tournament selection.\"\"\"\n",
        "        tournament_size = 3\n",
        "        selected = []\n",
        "        for _ in range(self.population_size):\n",
        "            tournament = random.sample(self.population, tournament_size)\n",
        "            tournament_fitness = [self.evaluate_fitness(ind) for ind in tournament]\n",
        "            winner = tournament[np.argmin(tournament_fitness)]\n",
        "            selected.append(winner)\n",
        "        return selected\n",
        "\n",
        "    def crossover(self, parent1, parent2):\n",
        "        \"\"\"Perform crossover between two parents to produce offspring.\"\"\"\n",
        "        if random.random() < self.crossover_rate:\n",
        "            point = random.randint(1, self.gene_length - 1)\n",
        "            offspring1 = np.concatenate((parent1[:point], parent2[point:]))\n",
        "            offspring2 = np.concatenate((parent2[:point], parent1[point:]))\n",
        "            return offspring1, offspring2\n",
        "        return parent1, parent2\n",
        "\n",
        "    def mutate(self, gene_sequence):\n",
        "        \"\"\"Apply mutation to a gene sequence.\"\"\"\n",
        "        for i in range(len(gene_sequence)):\n",
        "            if random.random() < self.mutation_rate:\n",
        "                gene_sequence[i] += np.random.uniform(-1.0, 1.0)\n",
        "                gene_sequence[i] = np.clip(gene_sequence[i], self.bounds[0], self.bounds[1])\n",
        "        return gene_sequence\n",
        "\n",
        "    def gene_expression(self, gene_sequence):\n",
        "        \"\"\"Translate a genetic sequence into a functional solution (no changes needed here).\"\"\"\n",
        "        return gene_sequence\n",
        "\n",
        "    def run(self):\n",
        "        \"\"\"Run the Gene Expression Algorithm.\"\"\"\n",
        "        for generation in range(self.generations):\n",
        "            # Step 1: Evaluate fitness and find the best solution\n",
        "            fitness_values = [self.evaluate_fitness(ind) for ind in self.population]\n",
        "            best_idx = np.argmin(fitness_values)\n",
        "            if fitness_values[best_idx] < self.best_fitness:\n",
        "                self.best_fitness = fitness_values[best_idx]\n",
        "                self.best_solution = self.population[best_idx].copy()\n",
        "\n",
        "            # Step 2: Selection\n",
        "            selected_population = self.selection()\n",
        "\n",
        "            # Step 3: Crossover and Mutation\n",
        "            next_population = []\n",
        "            for i in range(0, self.population_size, 2):\n",
        "                parent1 = selected_population[i]\n",
        "                parent2 = selected_population[i + 1]\n",
        "                offspring1, offspring2 = self.crossover(parent1, parent2)\n",
        "                next_population.append(self.mutate(offspring1))\n",
        "                next_population.append(self.mutate(offspring2))\n",
        "\n",
        "            self.population = next_population\n",
        "\n",
        "\n",
        "\n",
        "        print(\"Optimization complete.\")\n",
        "        print(f\"Best Solution: {self.best_solution}\")\n",
        "        print(f\"Best Fitness: {self.best_fitness:.6f}\")\n",
        "\n",
        "if __name__ == \"__main__\":\n",
        "    # Initialize and run the Gene Expression Algorithm\n",
        "    gea = GeneExpressionAlgorithm(population_size=50, gene_length=2, generations=50)\n",
        "    gea.run()"
      ]
    }
  ]
}