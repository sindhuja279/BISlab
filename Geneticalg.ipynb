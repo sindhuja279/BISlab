{
  "nbformat": 4,
  "nbformat_minor": 0,
  "metadata": {
    "colab": {
      "provenance": [],
      "authorship_tag": "ABX9TyN73HqIluBSexA12O4anwY+",
      "include_colab_link": true
    },
    "kernelspec": {
      "name": "python3",
      "display_name": "Python 3"
    },
    "language_info": {
      "name": "python"
    }
  },
  "cells": [
    {
      "cell_type": "markdown",
      "metadata": {
        "id": "view-in-github",
        "colab_type": "text"
      },
      "source": [
        "<a href=\"https://colab.research.google.com/github/sindhuja279/BISlab/blob/main/Geneticalg.ipynb\" target=\"_parent\"><img src=\"https://colab.research.google.com/assets/colab-badge.svg\" alt=\"Open In Colab\"/></a>"
      ]
    },
    {
      "cell_type": "code",
      "execution_count": null,
      "metadata": {
        "colab": {
          "base_uri": "https://localhost:8080/"
        },
        "id": "riXRREsx8pum",
        "outputId": "3922c272-601f-4272-ac3a-52716a316c85"
      },
      "outputs": [
        {
          "output_type": "stream",
          "name": "stdout",
          "text": [
            "Best solution: 9.217144271334007\n"
          ]
        }
      ],
      "source": [
        "import random\n",
        "import numpy as np\n",
        "\n",
        "def objective_function(x):\n",
        "    # Define the objective function to be minimized\n",
        "    return x**2 + 2*x + 1\n",
        "\n",
        "def generate_initial_population(population_size, bounds):\n",
        "    # Generate an initial population of potential solutions\n",
        "    population = []\n",
        "    for _ in range(population_size):\n",
        "        x = random.uniform(bounds[0], bounds[1])\n",
        "        population.append(x)\n",
        "    return population\n",
        "\n",
        "def evaluate_fitness(population):\n",
        "    # Evaluate the fitness of each individual in the population\n",
        "    fitness = []\n",
        "    for x in population:\n",
        "        fitness.append(objective_function(x))\n",
        "    return fitness\n",
        "\n",
        "def selection(population, fitness, num_parents):\n",
        "    # Select individuals based on their fitness to reproduce\n",
        "    parents = []\n",
        "    for _ in range(num_parents):\n",
        "        max_fitness_idx = np.argmax(fitness)\n",
        "        parents.append(population[max_fitness_idx])\n",
        "        fitness[max_fitness_idx] = -float('inf')  # Set fitness to -inf to avoid re-selection\n",
        "    return parents\n",
        "\n",
        "def crossover(parents, crossover_rate):\n",
        "    # Perform crossover between selected individuals to produce offspring\n",
        "    offspring = []\n",
        "    for _ in range(len(parents) // 2):\n",
        "        parent1, parent2 = random.sample(parents, 2)\n",
        "        if random.random() < crossover_rate:\n",
        "            x1, x2 = parent1, parent2\n",
        "            x_offspring = (x1 + x2) / 2\n",
        "            offspring.append(x_offspring)\n",
        "    return offspring\n",
        "\n",
        "def mutation(offspring, mutation_rate, bounds):\n",
        "    # Apply mutation to the offspring to maintain genetic diversity\n",
        "    for i in range(len(offspring)):\n",
        "        if random.random() < mutation_rate:\n",
        "            offspring[i] += random.uniform(-0.1, 0.1) * (bounds[1] - bounds[0])\n",
        "            offspring[i] = max(bounds[0], min(offspring[i], bounds[1]))  # Ensure bounds\n",
        "    return offspring\n",
        "\n",
        "def genetic_algorithm(population_size, mutation_rate, crossover_rate, num_generations, bounds):\n",
        "    population = generate_initial_population(population_size, bounds)\n",
        "    for generation in range(num_generations):\n",
        "        fitness = evaluate_fitness(population)\n",
        "        parents = selection(population, fitness, population_size // 2)\n",
        "        offspring = crossover(parents, crossover_rate)\n",
        "        offspring = mutation(offspring, mutation_rate, bounds)\n",
        "        population = offspring + parents\n",
        "    best_solution = min(population, key=objective_function)\n",
        "    return best_solution\n",
        "\n",
        "# Set parameters\n",
        "population_size = 100\n",
        "mutation_rate = 0.1\n",
        "crossover_rate = 0.5\n",
        "num_generations = 100\n",
        "bounds = (-10, 10)\n",
        "\n",
        "# Run the Genetic Algorithm\n",
        "best_solution = genetic_algorithm(population_size, mutation_rate, crossover_rate, num_generations, bounds)\n",
        "print(\"Best solution:\", best_solution)"
      ]
    }
  ]
}